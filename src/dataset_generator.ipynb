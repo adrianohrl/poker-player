{
 "cells": [
  {
   "cell_type": "code",
   "execution_count": 10,
   "metadata": {
    "collapsed": false
   },
   "outputs": [
    {
     "name": "stderr",
     "output_type": "stream",
     "text": [
      "/usr/local/anaconda3/lib/python3.6/site-packages/ipykernel_launcher.py:9: DeprecationWarning: use options instead of chrome_options\n",
      "  if __name__ == '__main__':\n"
     ]
    }
   ],
   "source": [
    "import pandas as pd\n",
    "from selenium import webdriver\n",
    "from selenium.webdriver.support.ui import Select\n",
    "from selenium.webdriver.chrome.options import Options\n",
    "from time import sleep\n",
    "from random import shuffle\n",
    "\n",
    "chrome_options = Options()\n",
    "br = webdriver.Chrome(\"/usr/lib/chromium-browser/chromedriver\", chrome_options=chrome_options)\n",
    "def get_prob2(J1,J2,br):\n",
    "    br.get(\"http://twodimes.net/poker/?g=l27&b=&d=&h=\"+str(\"+\".join(J1))+\"%0D%0A\"+str(\"+\".join(J2)))\n",
    "    sleep(2)\n",
    "    fuente = br.page_source.encode('utf-8')\n",
    "    print('fuente', fuente)\n",
    "    info = fuente.split(\"pre>\")[1][:-2].split(\"\\n\")[4:]\n",
    "    prob1 = info[0].split()[len(J1)+3]\n",
    "    prob2 = info[1].split()[len(J2)+3]\n",
    "    \n",
    "    return [prob1,prob2]"
   ]
  },
  {
   "cell_type": "code",
   "execution_count": 11,
   "metadata": {
    "collapsed": false
   },
   "outputs": [
    {
     "name": "stderr",
     "output_type": "stream",
     "text": [
      "/usr/local/anaconda3/lib/python3.6/site-packages/ipykernel_launcher.py:10: DeprecationWarning: use options instead of chrome_options\n",
      "  # Remove the CWD from sys.path while we load stuff.\n"
     ]
    }
   ],
   "source": [
    "import pandas as pd\n",
    "from selenium import webdriver\n",
    "from selenium.webdriver.support.ui import Select\n",
    "from selenium.webdriver.chrome.options import Options\n",
    "from time import sleep\n",
    "from random import shuffle\n",
    "\n",
    "\n",
    "chrome_options = Options()\n",
    "br2 = webdriver.Chrome(\"/usr/lib/chromium-browser/chromedriver\", chrome_options=chrome_options)\n",
    "br2.get(\"http://www.propokertools.com/simulations\")\n",
    "select = Select(br2.find_element_by_id(\"gameSelector\"))\n",
    "try:\n",
    "    select.select_by_visible_text(\"Stud Hi\")\n",
    "except:\n",
    "    print(\"foi\")\n",
    "    \n",
    "#sleep(5)\n",
    "def get_prob(J1,J2, br2):\n",
    "    \n",
    "    inputElement = br2.find_element_by_id(\"h1\")\n",
    "    inputElement = inputElement.clear()\n",
    "    inputElement = br2.find_element_by_id(\"h1\")\n",
    "    inputElement.send_keys(\",\".join(J1))\n",
    "    inputElement = br2.find_element_by_id(\"h2\")\n",
    "    inputElement = inputElement.clear()\n",
    "    inputElement = br2.find_element_by_id(\"h2\")\n",
    "    inputElement.send_keys(\",\".join(J2))\n",
    "\n",
    "    na = br2.find_element_by_class_name(\"pptbutton\").click()\n",
    "    sleep(3)\n",
    "    prob = br2.find_element_by_class_name(\"pptEV\").text[:-1]\n",
    "    return [prob, \"X\"]"
   ]
  },
  {
   "cell_type": "code",
   "execution_count": 12,
   "metadata": {
    "collapsed": false
   },
   "outputs": [],
   "source": [
    "def get_df(GAME_ID,ROUND,OPEN,J1,J2,PROB1,PROB2,ACTION):\n",
    "    df = pd.DataFrame(\n",
    "      {   \"GAME_ID\": [GAME_ID],\n",
    "          \"ROUND\": [ROUND],\n",
    "          \"OPEN\": [OPEN],\n",
    "          \"MY_CARDS\": [\",\".join(J1)],\n",
    "          \"OPPONENT_CARDS\": [\",\".join(J2)],\n",
    "          \"PROB1\": [PROB1],\n",
    "          \"PROB2\": [PROB2],\n",
    "          \"ACTION\":[\"\"],\n",
    "      })\n",
    "    return df"
   ]
  },
  {
   "cell_type": "code",
   "execution_count": 13,
   "metadata": {
    "collapsed": true
   },
   "outputs": [],
   "source": [
    "df_main = get_df(\"\",\"\",\"\",\"\",\"\",\"\",\"\",\"\")"
   ]
  },
  {
   "cell_type": "code",
   "execution_count": 14,
   "metadata": {
    "collapsed": false
   },
   "outputs": [
    {
     "name": "stdout",
     "output_type": "stream",
     "text": [
      "fuente b'<!DOCTYPE html PUBLIC \"-//W3C//DTD XHTML 1.0 Transitional//EN\" \"http://www.w3.org/TR/xhtml1/DTD/xhtml1-transitional.dtd\"><html xmlns=\"http://www.w3.org/1999/xhtml\"><head>\\n<title>Poker Odds Calculator (twodimes.net)</title>\\n<link rel=\"stylesheet\" type=\"text/css\" href=\"/twodimes.css\" />\\n</head>\\n<body>\\n<div id=\"wrap\">\\n<h1>Twodimes.net: Poker Odds Calculator</h1>\\n<form method=\"get\" action=\"\"><fieldset><legend>Enter Hands</legend><div id=\"hints\"><strong>Sample Hands:</strong><ul><li><a href=\"?g=h&amp;b=2d+8d+5c&amp;d=Ad&amp;h=3h+4h+%0D%0AKs+Kd+%0D%0A6c+5s%0D%0AQd+9d\">Holdem</a></li><li><a href=\"?g=7s&amp;b=&amp;d=&amp;h=9s+Ts+Js+Qs%0D%0A5d+5h+5c+2s\">7 Card Stud</a></li><li><a href=\"?g=l27&amp;b=&amp;d=&amp;h=2d+4d+6s+8h+%2F+Qh%0D%0A3s+5s+6h+9h+Ts\">2-7 Lowball</a></li><li><a href=\"?g=o&amp;b=&amp;d=&amp;h=2d+4d+6s+8h%0D%0A3s+5s+6h+9h\">Omaha</a></li></ul><strong>Hints:</strong><ul><li>You can separate cards in a hand with either a comma or a space (for easy pasting of hand histories)</li><li>For draw games separate discards with a /</li></ul></div><p style=\"margin-top:1em;\"><label for=\"g\">Game</label><select name=\"g\" size=\"1\">\\n<option value=\"h\">Holdem</option>\\n<option value=\"h8\">Holdem Hi/Lo 8 or better</option>\\n<option value=\"o\">Omaha</option>\\n<option value=\"o8\">Omaha Hi/Lo 8 or better</option>\\n<option value=\"7s\">7 Card Stud</option>\\n<option value=\"7s8\">7 Card Stud Hi/Lo 8 or better</option>\\n<option value=\"7snsq\">7 Card Stud Hi/Lo no qualifier</option>\\n<option value=\"r\">Razz</option>\\n<option selected=\"selected\" value=\"l27\">Deuce to Seven Lowball</option>\\n</select></p><p><label for=\"b\">Board</label><input type=\"text\" name=\"b\" size=\"20\" /></p><p><label for=\"d\">Dead Cards</label><input type=\"text\" name=\"d\" size=\"20\" /></p><p><label for=\"h\">Hands<br />(1 per line)</label><textarea name=\"h\" rows=\"5\" cols=\"30\">8s\\nJc</textarea></p><p><label>\\xc2\\xa0</label><input type=\"submit\" value=\"Calculate Odds\" /> <input type=\"button\" value=\"Clear Form\" onclick=\"javascript:this.form.b.value=\\'\\';this.form.d.value=\\'\\';this.form.h.value=\\'\\';\" /></p></fieldset></form>\\n<fieldset><legend>Your Odds</legend><p><small>Too many samples are required, using 500,000 sample simulation.</small></p><pre><a href=\"http://twodimes.net/h/?z=11986404\">http://twodimes.net/h/?z=11986404</a>\\npokenum  -mc 500000  -l27 8s  - jc \\n5-card Draw 2-7 Lowball: 500000 sampled outcomes\\ncards     win   %win    lose  %lose  tie  %tie     EV\\n8s     266636  53.33  233333  46.67   31  0.01  0.533\\nJc     233333  46.67  266636  53.33   31  0.01  0.467</pre></fieldset>\\n<br style=\"clear:left\" />\\n<br style=\"clear:left\" />\\n<div id=\"footer\"><ul><li style=\"padding-right:1.5em\"><a class=\"about\" href=\"/poker/info/\">About twodimes.net</a></li><li><a href=\"/poker/top/\">Top Hands</a></li><li><a href=\"/poker/quote/10?seed=bb6e9e\">Poker Quotes</a></li></ul><br /></div>\\n</div>\\n\\n<script src=\"http://www.google-analytics.com/urchin.js\" type=\"text/javascript\">\\n</script>\\n<script type=\"text/javascript\">\\n_uacct = \"UA-242507-1\";\\nurchinTracker();\\n</script>\\n\\t\\t\\n\\n</body></html>'\n"
     ]
    },
    {
     "ename": "TypeError",
     "evalue": "a bytes-like object is required, not 'str'",
     "output_type": "error",
     "traceback": [
      "\u001b[0;31m---------------------------------------------------------------------------\u001b[0m",
      "\u001b[0;31mTypeError\u001b[0m                                 Traceback (most recent call last)",
      "\u001b[0;32m<ipython-input-14-25979e65fe42>\u001b[0m in \u001b[0;36m<module>\u001b[0;34m\u001b[0m\n\u001b[1;32m     19\u001b[0m     \u001b[0mJ2\u001b[0m\u001b[0;34m.\u001b[0m\u001b[0mappend\u001b[0m\u001b[0;34m(\u001b[0m\u001b[0mbaralho\u001b[0m\u001b[0;34m.\u001b[0m\u001b[0mpop\u001b[0m\u001b[0;34m(\u001b[0m\u001b[0;36m0\u001b[0m\u001b[0;34m)\u001b[0m\u001b[0;34m)\u001b[0m\u001b[0;34m\u001b[0m\u001b[0m\n\u001b[1;32m     20\u001b[0m     \u001b[0;31m#print(J1,J2)\u001b[0m\u001b[0;34m\u001b[0m\u001b[0;34m\u001b[0m\u001b[0m\n\u001b[0;32m---> 21\u001b[0;31m     \u001b[0mprob\u001b[0m \u001b[0;34m=\u001b[0m \u001b[0mget_prob2\u001b[0m\u001b[0;34m(\u001b[0m\u001b[0mJ1\u001b[0m\u001b[0;34m,\u001b[0m\u001b[0mJ2\u001b[0m\u001b[0;34m,\u001b[0m \u001b[0mbr\u001b[0m\u001b[0;34m)\u001b[0m\u001b[0;34m\u001b[0m\u001b[0m\n\u001b[0m\u001b[1;32m     22\u001b[0m     \u001b[0mdf\u001b[0m \u001b[0;34m=\u001b[0m \u001b[0mget_df\u001b[0m\u001b[0;34m(\u001b[0m\u001b[0mGAME_ID\u001b[0m\u001b[0;34m,\u001b[0m\u001b[0;34m\"1\"\u001b[0m\u001b[0;34m,\u001b[0m\u001b[0;34m\"Y\"\u001b[0m\u001b[0;34m,\u001b[0m\u001b[0mJ1\u001b[0m\u001b[0;34m,\u001b[0m\u001b[0mJ2\u001b[0m\u001b[0;34m,\u001b[0m\u001b[0mprob\u001b[0m\u001b[0;34m[\u001b[0m\u001b[0;36m0\u001b[0m\u001b[0;34m]\u001b[0m\u001b[0;34m,\u001b[0m\u001b[0mprob\u001b[0m\u001b[0;34m[\u001b[0m\u001b[0;36m1\u001b[0m\u001b[0;34m]\u001b[0m\u001b[0;34m,\u001b[0m\u001b[0;34m\"\"\u001b[0m\u001b[0;34m)\u001b[0m\u001b[0;34m\u001b[0m\u001b[0m\n\u001b[1;32m     23\u001b[0m     \u001b[0mdf_main\u001b[0m \u001b[0;34m=\u001b[0m \u001b[0mdf_main\u001b[0m\u001b[0;34m.\u001b[0m\u001b[0mappend\u001b[0m\u001b[0;34m(\u001b[0m\u001b[0mdf\u001b[0m\u001b[0;34m)\u001b[0m\u001b[0;34m.\u001b[0m\u001b[0mreset_index\u001b[0m\u001b[0;34m(\u001b[0m\u001b[0mdrop\u001b[0m\u001b[0;34m=\u001b[0m\u001b[0;32mTrue\u001b[0m\u001b[0;34m)\u001b[0m\u001b[0;34m\u001b[0m\u001b[0m\n",
      "\u001b[0;32m<ipython-input-10-c1177298ce9b>\u001b[0m in \u001b[0;36mget_prob2\u001b[0;34m(J1, J2, br)\u001b[0m\n\u001b[1;32m     13\u001b[0m     \u001b[0mfuente\u001b[0m \u001b[0;34m=\u001b[0m \u001b[0mbr\u001b[0m\u001b[0;34m.\u001b[0m\u001b[0mpage_source\u001b[0m\u001b[0;34m.\u001b[0m\u001b[0mencode\u001b[0m\u001b[0;34m(\u001b[0m\u001b[0;34m'utf-8'\u001b[0m\u001b[0;34m)\u001b[0m\u001b[0;34m\u001b[0m\u001b[0m\n\u001b[1;32m     14\u001b[0m     \u001b[0mprint\u001b[0m\u001b[0;34m(\u001b[0m\u001b[0;34m'fuente'\u001b[0m\u001b[0;34m,\u001b[0m \u001b[0mfuente\u001b[0m\u001b[0;34m)\u001b[0m\u001b[0;34m\u001b[0m\u001b[0m\n\u001b[0;32m---> 15\u001b[0;31m     \u001b[0minfo\u001b[0m \u001b[0;34m=\u001b[0m \u001b[0mfuente\u001b[0m\u001b[0;34m.\u001b[0m\u001b[0msplit\u001b[0m\u001b[0;34m(\u001b[0m\u001b[0;34m\"pre>\"\u001b[0m\u001b[0;34m)\u001b[0m\u001b[0;34m[\u001b[0m\u001b[0;36m1\u001b[0m\u001b[0;34m]\u001b[0m\u001b[0;34m[\u001b[0m\u001b[0;34m:\u001b[0m\u001b[0;34m-\u001b[0m\u001b[0;36m2\u001b[0m\u001b[0;34m]\u001b[0m\u001b[0;34m.\u001b[0m\u001b[0msplit\u001b[0m\u001b[0;34m(\u001b[0m\u001b[0;34m\"\\n\"\u001b[0m\u001b[0;34m)\u001b[0m\u001b[0;34m[\u001b[0m\u001b[0;36m4\u001b[0m\u001b[0;34m:\u001b[0m\u001b[0;34m]\u001b[0m\u001b[0;34m\u001b[0m\u001b[0m\n\u001b[0m\u001b[1;32m     16\u001b[0m     \u001b[0mprob1\u001b[0m \u001b[0;34m=\u001b[0m \u001b[0minfo\u001b[0m\u001b[0;34m[\u001b[0m\u001b[0;36m0\u001b[0m\u001b[0;34m]\u001b[0m\u001b[0;34m.\u001b[0m\u001b[0msplit\u001b[0m\u001b[0;34m(\u001b[0m\u001b[0;34m)\u001b[0m\u001b[0;34m[\u001b[0m\u001b[0mlen\u001b[0m\u001b[0;34m(\u001b[0m\u001b[0mJ1\u001b[0m\u001b[0;34m)\u001b[0m\u001b[0;34m+\u001b[0m\u001b[0;36m3\u001b[0m\u001b[0;34m]\u001b[0m\u001b[0;34m\u001b[0m\u001b[0m\n\u001b[1;32m     17\u001b[0m     \u001b[0mprob2\u001b[0m \u001b[0;34m=\u001b[0m \u001b[0minfo\u001b[0m\u001b[0;34m[\u001b[0m\u001b[0;36m1\u001b[0m\u001b[0;34m]\u001b[0m\u001b[0;34m.\u001b[0m\u001b[0msplit\u001b[0m\u001b[0;34m(\u001b[0m\u001b[0;34m)\u001b[0m\u001b[0;34m[\u001b[0m\u001b[0mlen\u001b[0m\u001b[0;34m(\u001b[0m\u001b[0mJ2\u001b[0m\u001b[0;34m)\u001b[0m\u001b[0;34m+\u001b[0m\u001b[0;36m3\u001b[0m\u001b[0;34m]\u001b[0m\u001b[0;34m\u001b[0m\u001b[0m\n",
      "\u001b[0;31mTypeError\u001b[0m: a bytes-like object is required, not 'str'"
     ]
    }
   ],
   "source": [
    "\n",
    "\n",
    "for GAME_ID in range(5):\n",
    "\n",
    "    J1= []\n",
    "    J2 = []\n",
    "\n",
    "    S = [\"2s\",\"3s\",\"4s\",\"5s\",\"6s\",\"7s\",\"8s\",\"9s\",\"Ts\",\"Js\",\"Qs\",\"Ks\",\"As\"]\n",
    "    H = [\"2h\",\"3h\",\"4h\",\"5h\",\"6h\",\"7h\",\"8h\",\"9h\",\"Th\",\"Jh\",\"Qh\",\"Kh\",\"Ah\"]\n",
    "    C = [\"2c\",\"3c\",\"4c\",\"5c\",\"6c\",\"7c\",\"8c\",\"9c\",\"Tc\",\"Jc\",\"Qc\",\"Kc\",\"Ac\"]\n",
    "    D = [\"2d\",\"3d\",\"4d\",\"5d\",\"6d\",\"7d\",\"8d\",\"9d\",\"Td\",\"Jd\",\"Qd\",\"Kd\",\"Ad\"]\n",
    "    baralho = S+H+C+D\n",
    "    #baralho[0:10]\n",
    "\n",
    "    shuffle(baralho)\n",
    "    #baralho[0:10]\n",
    "\n",
    "    J1.append(baralho.pop(0))\n",
    "    J2.append(baralho.pop(0))\n",
    "    #print(J1,J2)\n",
    "    prob = get_prob2(J1,J2, br)\n",
    "    df = get_df(GAME_ID,\"1\",\"Y\",J1,J2,prob[0],prob[1],\"\")\n",
    "    df_main = df_main.append(df).reset_index(drop=True)\n",
    "\n",
    "    J1.append(baralho.pop(0))\n",
    "    J2.append(baralho.pop(0))\n",
    "    prob = get_prob2(J1,J2, br)\n",
    "    df = get_df(GAME_ID,\"2\",\"Y\",J1,J2,prob[0],prob[1],\"\")\n",
    "    df_main = df_main.append(df).reset_index(drop=True)\n",
    "\n",
    "    J2x = [J2[0], J2[1]] \n",
    "\n",
    "    J1.append(baralho.pop(0))\n",
    "    J2.append(baralho.pop(0))\n",
    "    J2x.append(\"*\")\n",
    "    prob = get_prob(J1,J2x, br2)\n",
    "    df = get_df(GAME_ID,\"3\",\"N\",J1,J2x,prob[0],prob[1],\"\")\n",
    "    df_main = df_main.append(df).reset_index(drop=True)\n",
    "    prob = get_prob2(J1,J2, br)\n",
    "    df = get_df(GAME_ID,\"3\",\"Y\",J1,J2,prob[0],prob[1],\"\")\n",
    "    df_main = df_main.append(df).reset_index(drop=True)\n",
    "\n",
    "\n",
    "    J1.append(baralho.pop(0))\n",
    "    J2.append(baralho.pop(0))\n",
    "    J2x.append(\"*\")\n",
    "    prob = get_prob(J1,J2x, br2)\n",
    "    df = get_df(GAME_ID,\"4\",\"N\",J1,J2x,prob[0],prob[1],\"\")\n",
    "    df_main = df_main.append(df).reset_index(drop=True)\n",
    "    prob = get_prob2(J1,J2, br)\n",
    "    df = get_df(GAME_ID,\"4\",\"Y\",J1,J2,prob[0],prob[1],\"\")\n",
    "    df_main = df_main.append(df).reset_index(drop=True)\n",
    "\n",
    "\n",
    "    J1.append(baralho.pop(0))\n",
    "    J2.append(baralho.pop(0))\n",
    "    J2x.append(\"*\")\n",
    "    prob = get_prob(J1,J2x, br2)\n",
    "    df = get_df(GAME_ID,\"5\",\"N\",J1,J2x,prob[0],prob[1],\"\")\n",
    "    df_main = df_main.append(df).reset_index(drop=True)\n",
    "    prob = get_prob2(J1,J2, br)\n",
    "    df = get_df(GAME_ID,\"5\",\"Y\",J1,J2,prob[0],prob[1],\"\")\n",
    "    df_main = df_main.append(df).reset_index(drop=True)\n"
   ]
  },
  {
   "cell_type": "code",
   "execution_count": 8,
   "metadata": {
    "collapsed": false
   },
   "outputs": [
    {
     "data": {
      "text/html": [
       "<div>\n",
       "<style scoped>\n",
       "    .dataframe tbody tr th:only-of-type {\n",
       "        vertical-align: middle;\n",
       "    }\n",
       "\n",
       "    .dataframe tbody tr th {\n",
       "        vertical-align: top;\n",
       "    }\n",
       "\n",
       "    .dataframe thead th {\n",
       "        text-align: right;\n",
       "    }\n",
       "</style>\n",
       "<table border=\"1\" class=\"dataframe\">\n",
       "  <thead>\n",
       "    <tr style=\"text-align: right;\">\n",
       "      <th></th>\n",
       "      <th>GAME_ID</th>\n",
       "      <th>ROUND</th>\n",
       "      <th>MY_CARDS</th>\n",
       "      <th>PROB1</th>\n",
       "      <th>OPPONENT_CARDS</th>\n",
       "      <th>PROB2</th>\n",
       "      <th>OPEN</th>\n",
       "      <th>ACTION</th>\n",
       "    </tr>\n",
       "  </thead>\n",
       "  <tbody>\n",
       "    <tr>\n",
       "      <th>0</th>\n",
       "      <td></td>\n",
       "      <td></td>\n",
       "      <td></td>\n",
       "      <td></td>\n",
       "      <td></td>\n",
       "      <td></td>\n",
       "      <td></td>\n",
       "      <td></td>\n",
       "    </tr>\n",
       "  </tbody>\n",
       "</table>\n",
       "</div>"
      ],
      "text/plain": [
       "  GAME_ID ROUND MY_CARDS PROB1 OPPONENT_CARDS PROB2 OPEN ACTION\n",
       "0                                                              "
      ]
     },
     "execution_count": 8,
     "metadata": {},
     "output_type": "execute_result"
    }
   ],
   "source": [
    "df_main[[\"GAME_ID\",\"ROUND\",\"MY_CARDS\",\"PROB1\",\"OPPONENT_CARDS\",\"PROB2\",\"OPEN\",\"ACTION\"]]"
   ]
  },
  {
   "cell_type": "code",
   "execution_count": 7,
   "metadata": {
    "collapsed": false
   },
   "outputs": [],
   "source": [
    "df_main.to_csv(\"df.csv\")"
   ]
  },
  {
   "cell_type": "code",
   "execution_count": null,
   "metadata": {
    "collapsed": true
   },
   "outputs": [],
   "source": []
  }
 ],
 "metadata": {
  "anaconda-cloud": {},
  "kernelspec": {
   "display_name": "Python 3",
   "language": "python",
   "name": "python3"
  },
  "language_info": {
   "codemirror_mode": {
    "name": "ipython",
    "version": 3
   },
   "file_extension": ".py",
   "mimetype": "text/x-python",
   "name": "python",
   "nbconvert_exporter": "python",
   "pygments_lexer": "ipython3",
   "version": "3.6.6"
  }
 },
 "nbformat": 4,
 "nbformat_minor": 2
}
