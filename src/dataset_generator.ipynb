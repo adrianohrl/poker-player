{
 "cells": [
  {
   "cell_type": "code",
   "execution_count": 1,
   "metadata": {
    "collapsed": false
   },
   "outputs": [],
   "source": [
    "import pandas as pd\n",
    "from selenium import webdriver\n",
    "from selenium.webdriver.support.ui import Select\n",
    "from selenium.webdriver.chrome.options import Options\n",
    "from time import sleep\n",
    "from random import shuffle\n",
    "\n",
    "\n",
    "chrome_options = Options()\n",
    "br = webdriver.Chrome(\"../../Jupiter/Aux/chromedriver\", chrome_options=chrome_options)\n",
    "def get_prob2(J1,J2,br):\n",
    "    br.get(\"http://twodimes.net/poker/?g=l27&b=&d=&h=\"+str(\"+\".join(J1))+\"%0D%0A\"+str(\"+\".join(J2)))\n",
    "    sleep(2)\n",
    "    fuente = br.page_source.encode('utf-8')\n",
    "    info = fuente.split(\"pre>\")[1][:-2].split(\"\\n\")[4:]\n",
    "    prob1 = info[0].split()[len(J1)+3]\n",
    "    prob2 = info[1].split()[len(J2)+3]\n",
    "    \n",
    "    return [prob1,prob2]"
   ]
  },
  {
   "cell_type": "code",
   "execution_count": 2,
   "metadata": {
    "collapsed": false
   },
   "outputs": [],
   "source": [
    "import pandas as pd\n",
    "from selenium import webdriver\n",
    "from selenium.webdriver.support.ui import Select\n",
    "from selenium.webdriver.chrome.options import Options\n",
    "from time import sleep\n",
    "from random import shuffle\n",
    "\n",
    "\n",
    "chrome_options = Options()\n",
    "br2 = webdriver.Chrome(\"../../Jupiter/Aux/chromedriver\", chrome_options=chrome_options)\n",
    "br2.get(\"http://www.propokertools.com/simulations\")\n",
    "select = Select(br2.find_element_by_id(\"gameSelector\"))\n",
    "try:\n",
    "    select.select_by_visible_text(\"Stud Hi\")\n",
    "except:\n",
    "    print(\"foi\")\n",
    "    \n",
    "#sleep(5)\n",
    "def get_prob(J1,J2, br2):\n",
    "    \n",
    "    inputElement = br2.find_element_by_id(\"h1\")\n",
    "    inputElement = inputElement.clear()\n",
    "    inputElement = br2.find_element_by_id(\"h1\")\n",
    "    inputElement.send_keys(\",\".join(J1))\n",
    "    inputElement = br2.find_element_by_id(\"h2\")\n",
    "    inputElement = inputElement.clear()\n",
    "    inputElement = br2.find_element_by_id(\"h2\")\n",
    "    inputElement.send_keys(\",\".join(J2))\n",
    "\n",
    "    na = br2.find_element_by_class_name(\"pptbutton\").click()\n",
    "    sleep(3)\n",
    "    prob = br2.find_element_by_class_name(\"pptEV\").text[:-1]\n",
    "    return [prob, \"X\"]"
   ]
  },
  {
   "cell_type": "code",
   "execution_count": 3,
   "metadata": {
    "collapsed": false
   },
   "outputs": [],
   "source": [
    "def get_df(GAME_ID,ROUND,OPEN,J1,J2,PROB1,PROB2,ACTION):\n",
    "    df = pd.DataFrame(\n",
    "      {   \"GAME_ID\": [GAME_ID],\n",
    "          \"ROUND\": [ROUND],\n",
    "          \"OPEN\": [OPEN],\n",
    "          \"MY_CARDS\": [\",\".join(J1)],\n",
    "          \"OPPONENT_CARDS\": [\",\".join(J2)],\n",
    "          \"PROB1\": [PROB1],\n",
    "          \"PROB2\": [PROB2],\n",
    "          \"ACTION\":[\"\"],\n",
    "      })\n",
    "    return df"
   ]
  },
  {
   "cell_type": "code",
   "execution_count": null,
   "metadata": {
    "collapsed": true
   },
   "outputs": [],
   "source": [
    "df_main = get_df(\"\",\"\",\"\",\"\",\"\",\"\",\"\",\"\")"
   ]
  },
  {
   "cell_type": "code",
   "execution_count": null,
   "metadata": {
    "collapsed": false
   },
   "outputs": [],
   "source": [
    "\n",
    "\n",
    "for GAME_ID in range(3):\n",
    "\n",
    "    J1= []\n",
    "    J2 = []\n",
    "\n",
    "    S = [\"2s\",\"3s\",\"4s\",\"5s\",\"6s\",\"7s\",\"8s\",\"9s\",\"Ts\",\"Js\",\"Qs\",\"Ks\",\"As\"]\n",
    "    H = [\"2h\",\"3h\",\"4h\",\"5h\",\"6h\",\"7h\",\"8h\",\"9h\",\"Th\",\"Jh\",\"Qh\",\"Kh\",\"Ah\"]\n",
    "    C = [\"2c\",\"3c\",\"4c\",\"5c\",\"6c\",\"7c\",\"8c\",\"9c\",\"Tc\",\"Jc\",\"Qc\",\"Kc\",\"Ac\"]\n",
    "    D = [\"2d\",\"3d\",\"4d\",\"5d\",\"6d\",\"7d\",\"8d\",\"9d\",\"Td\",\"Jd\",\"Qd\",\"Kd\",\"Ad\"]\n",
    "    baralho = S+H+C+D\n",
    "    #baralho[0:10]\n",
    "\n",
    "    shuffle(baralho)\n",
    "    #baralho[0:10]\n",
    "\n",
    "    J1.append(baralho.pop(0))\n",
    "    J2.append(baralho.pop(0))\n",
    "    #print(J1,J2)\n",
    "    prob = get_prob2(J1,J2, br)\n",
    "    df = get_df(GAME_ID,\"1\",\"Y\",J1,J2,prob[0],prob[1],\"\")\n",
    "    df_main = df_main.append(df).reset_index(drop=True)\n",
    "\n",
    "    J1.append(baralho.pop(0))\n",
    "    J2.append(baralho.pop(0))\n",
    "    prob = get_prob2(J1,J2, br)\n",
    "    df = get_df(GAME_ID,\"2\",\"Y\",J1,J2,prob[0],prob[1],\"\")\n",
    "    df_main = df_main.append(df).reset_index(drop=True)\n",
    "\n",
    "    J2x = [J2[0], J2[1]] \n",
    "\n",
    "    J1.append(baralho.pop(0))\n",
    "    J2.append(baralho.pop(0))\n",
    "    J2x.append(\"*\")\n",
    "    prob = get_prob(J1,J2x, br2)\n",
    "    df = get_df(GAME_ID,\"3\",\"N\",J1,J2x,prob[0],prob[1],\"\")\n",
    "    df_main = df_main.append(df).reset_index(drop=True)\n",
    "    prob = get_prob2(J1,J2, br)\n",
    "    df = get_df(GAME_ID,\"3\",\"Y\",J1,J2,prob[0],prob[1],\"\")\n",
    "    df_main = df_main.append(df).reset_index(drop=True)\n",
    "\n",
    "\n",
    "    J1.append(baralho.pop(0))\n",
    "    J2.append(baralho.pop(0))\n",
    "    J2x.append(\"*\")\n",
    "    prob = get_prob(J1,J2x, br2)\n",
    "    df = get_df(GAME_ID,\"4\",\"N\",J1,J2x,prob[0],prob[1],\"\")\n",
    "    df_main = df_main.append(df).reset_index(drop=True)\n",
    "    prob = get_prob2(J1,J2, br)\n",
    "    df = get_df(GAME_ID,\"4\",\"Y\",J1,J2,prob[0],prob[1],\"\")\n",
    "    df_main = df_main.append(df).reset_index(drop=True)\n",
    "\n",
    "\n",
    "    J1.append(baralho.pop(0))\n",
    "    J2.append(baralho.pop(0))\n",
    "    J2x.append(\"*\")\n",
    "    prob = get_prob(J1,J2x, br2)\n",
    "    df = get_df(GAME_ID,\"5\",\"N\",J1,J2x,prob[0],prob[1],\"\")\n",
    "    df_main = df_main.append(df).reset_index(drop=True)\n",
    "    prob = get_prob2(J1,J2, br)\n",
    "    df = get_df(GAME_ID,\"5\",\"Y\",J1,J2,prob[0],prob[1],\"\")\n",
    "    df_main = df_main.append(df).reset_index(drop=True)\n"
   ]
  },
  {
   "cell_type": "code",
   "execution_count": null,
   "metadata": {
    "collapsed": false
   },
   "outputs": [],
   "source": [
    "df_main = df_main[[\"GAME_ID\",\"ROUND\",\"MY_CARDS\",\"PROB1\",\"OPPONENT_CARDS\",\"PROB2\",\"OPEN\",\"ACTION\"]]"
   ]
  },
  {
   "cell_type": "code",
   "execution_count": null,
   "metadata": {
    "collapsed": true
   },
   "outputs": [],
   "source": [
    "df_main"
   ]
  },
  {
   "cell_type": "code",
   "execution_count": null,
   "metadata": {
    "collapsed": false
   },
   "outputs": [],
   "source": [
    "df_main.to_csv(\"df.csv\")"
   ]
  },
  {
   "cell_type": "code",
   "execution_count": null,
   "metadata": {
    "collapsed": true
   },
   "outputs": [],
   "source": []
  }
 ],
 "metadata": {
  "anaconda-cloud": {},
  "kernelspec": {
   "display_name": "Python [conda env:keras-test2]",
   "language": "python",
   "name": "conda-env-keras-test2-py"
  },
  "language_info": {
   "codemirror_mode": {
    "name": "ipython",
    "version": 2
   },
   "file_extension": ".py",
   "mimetype": "text/x-python",
   "name": "python",
   "nbconvert_exporter": "python",
   "pygments_lexer": "ipython2",
   "version": "2.7.13"
  }
 },
 "nbformat": 4,
 "nbformat_minor": 1
}
